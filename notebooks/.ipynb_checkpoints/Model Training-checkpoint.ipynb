{
 "cells": [
  {
   "cell_type": "markdown",
   "id": "69e8c736",
   "metadata": {},
   "source": [
    "## Model training"
   ]
  },
  {
   "cell_type": "markdown",
   "id": "af5d1012",
   "metadata": {},
   "source": [
    "Here we are going to train the data with all the columns"
   ]
  },
  {
   "cell_type": "code",
   "execution_count": 276,
   "id": "44c7853e",
   "metadata": {},
   "outputs": [],
   "source": [
    "#import the libraries\n",
    "import pandas as pd\n",
    "import numpy as np\n",
    "from sklearn.linear_model import LogisticRegression\n",
    "from sklearn.model_selection import train_test_split\n",
    "from sklearn.tree import DecisionTreeClassifier\n",
    "from sklearn.ensemble import HistGradientBoostingClassifier\n",
    "from sklearn.metrics import confusion_matrix\n",
    "import seaborn as sns\n",
    "import matplotlib.pyplot as plt\n",
    "import warnings\n",
    "warnings.filterwarnings('ignore')"
   ]
  },
  {
   "cell_type": "code",
   "execution_count": 277,
   "id": "b885fbf7",
   "metadata": {},
   "outputs": [],
   "source": [
    "#reading the data with the columns ready to train the model\n",
    "data_frame=pd.read_csv('data/final_data_all.csv')"
   ]
  },
  {
   "cell_type": "code",
   "execution_count": 278,
   "id": "4ce36003",
   "metadata": {},
   "outputs": [
    {
     "data": {
      "text/html": [
       "<div>\n",
       "<style scoped>\n",
       "    .dataframe tbody tr th:only-of-type {\n",
       "        vertical-align: middle;\n",
       "    }\n",
       "\n",
       "    .dataframe tbody tr th {\n",
       "        vertical-align: top;\n",
       "    }\n",
       "\n",
       "    .dataframe thead th {\n",
       "        text-align: right;\n",
       "    }\n",
       "</style>\n",
       "<table border=\"1\" class=\"dataframe\">\n",
       "  <thead>\n",
       "    <tr style=\"text-align: right;\">\n",
       "      <th></th>\n",
       "      <th>age</th>\n",
       "      <th>workclass</th>\n",
       "      <th>fnlwgt</th>\n",
       "      <th>education</th>\n",
       "      <th>education-num</th>\n",
       "      <th>marital-status</th>\n",
       "      <th>occupation</th>\n",
       "      <th>relationship</th>\n",
       "      <th>race</th>\n",
       "      <th>sex</th>\n",
       "      <th>capital-gain</th>\n",
       "      <th>capital-loss</th>\n",
       "      <th>hours-per-week</th>\n",
       "      <th>country</th>\n",
       "      <th>salary</th>\n",
       "    </tr>\n",
       "  </thead>\n",
       "  <tbody>\n",
       "    <tr>\n",
       "      <th>0</th>\n",
       "      <td>0.205903</td>\n",
       "      <td>2.150579</td>\n",
       "      <td>-1.173869</td>\n",
       "      <td>-0.335437</td>\n",
       "      <td>-0.658598</td>\n",
       "      <td>0.921634</td>\n",
       "      <td>-1.317809</td>\n",
       "      <td>-0.277805</td>\n",
       "      <td>0.393668</td>\n",
       "      <td>0.703071</td>\n",
       "      <td>0.148453</td>\n",
       "      <td>-0.21666</td>\n",
       "      <td>0.128926</td>\n",
       "      <td>0.291569</td>\n",
       "      <td>&lt;=50K</td>\n",
       "    </tr>\n",
       "    <tr>\n",
       "      <th>1</th>\n",
       "      <td>0.895359</td>\n",
       "      <td>1.463736</td>\n",
       "      <td>-1.088463</td>\n",
       "      <td>-0.335437</td>\n",
       "      <td>-0.658598</td>\n",
       "      <td>-0.406212</td>\n",
       "      <td>-0.608387</td>\n",
       "      <td>-0.900181</td>\n",
       "      <td>0.393668</td>\n",
       "      <td>0.703071</td>\n",
       "      <td>-0.145920</td>\n",
       "      <td>-0.21666</td>\n",
       "      <td>-2.611727</td>\n",
       "      <td>0.291569</td>\n",
       "      <td>&lt;=50K</td>\n",
       "    </tr>\n",
       "    <tr>\n",
       "      <th>2</th>\n",
       "      <td>0.133824</td>\n",
       "      <td>0.090050</td>\n",
       "      <td>0.380227</td>\n",
       "      <td>0.181332</td>\n",
       "      <td>1.215082</td>\n",
       "      <td>-1.734058</td>\n",
       "      <td>-0.135438</td>\n",
       "      <td>-0.277805</td>\n",
       "      <td>0.393668</td>\n",
       "      <td>0.703071</td>\n",
       "      <td>-0.145920</td>\n",
       "      <td>-0.21666</td>\n",
       "      <td>0.128926</td>\n",
       "      <td>0.291569</td>\n",
       "      <td>&lt;=50K</td>\n",
       "    </tr>\n",
       "    <tr>\n",
       "      <th>3</th>\n",
       "      <td>1.057050</td>\n",
       "      <td>0.090050</td>\n",
       "      <td>0.548231</td>\n",
       "      <td>-2.402511</td>\n",
       "      <td>0.874413</td>\n",
       "      <td>-0.406212</td>\n",
       "      <td>-0.135438</td>\n",
       "      <td>-0.900181</td>\n",
       "      <td>-1.962621</td>\n",
       "      <td>0.703071</td>\n",
       "      <td>-0.145920</td>\n",
       "      <td>-0.21666</td>\n",
       "      <td>0.128926</td>\n",
       "      <td>0.291569</td>\n",
       "      <td>&lt;=50K</td>\n",
       "    </tr>\n",
       "    <tr>\n",
       "      <th>4</th>\n",
       "      <td>-0.713580</td>\n",
       "      <td>0.090050</td>\n",
       "      <td>1.360957</td>\n",
       "      <td>-0.335437</td>\n",
       "      <td>-0.658598</td>\n",
       "      <td>-0.406212</td>\n",
       "      <td>0.810458</td>\n",
       "      <td>2.211698</td>\n",
       "      <td>-1.962621</td>\n",
       "      <td>-1.422331</td>\n",
       "      <td>-0.145920</td>\n",
       "      <td>-0.21666</td>\n",
       "      <td>0.128926</td>\n",
       "      <td>-4.054223</td>\n",
       "      <td>&lt;=50K</td>\n",
       "    </tr>\n",
       "  </tbody>\n",
       "</table>\n",
       "</div>"
      ],
      "text/plain": [
       "        age  workclass    fnlwgt  education  education-num  marital-status  \\\n",
       "0  0.205903   2.150579 -1.173869  -0.335437      -0.658598        0.921634   \n",
       "1  0.895359   1.463736 -1.088463  -0.335437      -0.658598       -0.406212   \n",
       "2  0.133824   0.090050  0.380227   0.181332       1.215082       -1.734058   \n",
       "3  1.057050   0.090050  0.548231  -2.402511       0.874413       -0.406212   \n",
       "4 -0.713580   0.090050  1.360957  -0.335437      -0.658598       -0.406212   \n",
       "\n",
       "   occupation  relationship      race       sex  capital-gain  capital-loss  \\\n",
       "0   -1.317809     -0.277805  0.393668  0.703071      0.148453      -0.21666   \n",
       "1   -0.608387     -0.900181  0.393668  0.703071     -0.145920      -0.21666   \n",
       "2   -0.135438     -0.277805  0.393668  0.703071     -0.145920      -0.21666   \n",
       "3   -0.135438     -0.900181 -1.962621  0.703071     -0.145920      -0.21666   \n",
       "4    0.810458      2.211698 -1.962621 -1.422331     -0.145920      -0.21666   \n",
       "\n",
       "   hours-per-week   country  salary  \n",
       "0        0.128926  0.291569   <=50K  \n",
       "1       -2.611727  0.291569   <=50K  \n",
       "2        0.128926  0.291569   <=50K  \n",
       "3        0.128926  0.291569   <=50K  \n",
       "4        0.128926 -4.054223   <=50K  "
      ]
     },
     "execution_count": 278,
     "metadata": {},
     "output_type": "execute_result"
    }
   ],
   "source": [
    "data_frame.head()"
   ]
  },
  {
   "cell_type": "code",
   "execution_count": 279,
   "id": "0544d5a7",
   "metadata": {},
   "outputs": [],
   "source": [
    "#assigning the data as input and output \n",
    "x=data_frame.drop(['salary'],axis=1)\n",
    "y=data_frame[['salary']]"
   ]
  },
  {
   "cell_type": "code",
   "execution_count": 280,
   "id": "b0af80f4",
   "metadata": {},
   "outputs": [],
   "source": [
    "#spliting the data\n",
    "x_train,x_test,y_train,y_test=train_test_split(x,y,test_size=0.3,train_size=0.7,random_state=46)"
   ]
  },
  {
   "cell_type": "code",
   "execution_count": 281,
   "id": "fa85b2bc",
   "metadata": {},
   "outputs": [],
   "source": [
    "#initializing the models"
   ]
  },
  {
   "cell_type": "markdown",
   "id": "2fdc9a66",
   "metadata": {},
   "source": [
    "1. Logistic Regression"
   ]
  },
  {
   "cell_type": "code",
   "execution_count": 282,
   "id": "409dd3ff",
   "metadata": {},
   "outputs": [
    {
     "data": {
      "text/plain": [
       "0.8071450506704883"
      ]
     },
     "execution_count": 282,
     "metadata": {},
     "output_type": "execute_result"
    }
   ],
   "source": [
    "log_model=LogisticRegression()\n",
    "log_model.fit(x_train,y_train)\n",
    "log_model.score(x_test,y_test)"
   ]
  },
  {
   "cell_type": "markdown",
   "id": "5385abdf",
   "metadata": {},
   "source": [
    "2. Decision Tree Classifier"
   ]
  },
  {
   "cell_type": "code",
   "execution_count": 283,
   "id": "ae354352",
   "metadata": {},
   "outputs": [
    {
     "data": {
      "text/plain": [
       "0.8129798341693111"
      ]
     },
     "execution_count": 283,
     "metadata": {},
     "output_type": "execute_result"
    }
   ],
   "source": [
    "tree_model=DecisionTreeClassifier()\n",
    "tree_model.fit(x_train,y_train)\n",
    "tree_model.score(x_test,y_test)"
   ]
  },
  {
   "cell_type": "markdown",
   "id": "f81e2bf8",
   "metadata": {},
   "source": [
    "3. Hist Gradient Boosting Classifier"
   ]
  },
  {
   "cell_type": "code",
   "execution_count": 284,
   "id": "7d5c7cdd",
   "metadata": {},
   "outputs": [
    {
     "data": {
      "text/plain": [
       "0.8732725969904801"
      ]
     },
     "execution_count": 284,
     "metadata": {},
     "output_type": "execute_result"
    }
   ],
   "source": [
    "hist_model=HistGradientBoostingClassifier()\n",
    "hist_model.fit(x_train,y_train)\n",
    "hist_model.score(x_test,y_test)"
   ]
  },
  {
   "cell_type": "code",
   "execution_count": 285,
   "id": "cc5a267e",
   "metadata": {},
   "outputs": [],
   "source": [
    "predicted_values=hist_model.predict(x_test)"
   ]
  },
  {
   "cell_type": "code",
   "execution_count": 286,
   "id": "e57d3dfa",
   "metadata": {},
   "outputs": [
    {
     "data": {
      "text/plain": [
       "array([' <=50K', ' <=50K', ' <=50K', ..., ' <=50K', ' <=50K', ' <=50K'],\n",
       "      dtype=object)"
      ]
     },
     "execution_count": 286,
     "metadata": {},
     "output_type": "execute_result"
    }
   ],
   "source": [
    "predicted_values"
   ]
  },
  {
   "cell_type": "code",
   "execution_count": 287,
   "id": "4a01b39a",
   "metadata": {},
   "outputs": [
    {
     "data": {
      "image/png": "[encoded data removed]",
      "text/plain": [
       "<Figure size 640x480 with 2 Axes>"
      ]
     },
     "metadata": {},
     "output_type": "display_data"
    },
    {
     "data": {
      "text/plain": [
       "array([[6990,  421],\n",
       "       [ 817, 1541]])"
      ]
     },
     "execution_count": 287,
     "metadata": {},
     "output_type": "execute_result"
    }
   ],
   "source": [
    "sns.heatmap(confusion_matrix(y_test,predicted_values))\n",
    "plt.show()\n",
    "confusion_matrix(y_test,predicted_values)"
   ]
  },
  {
   "cell_type": "markdown",
   "id": "5b5dbe9e",
   "metadata": {},
   "source": [
    "- hist gradient boosting classifier works well with 87% of accuracy "
   ]
  },
  {
   "cell_type": "code",
   "execution_count": 288,
   "id": "43e32d42",
   "metadata": {},
   "outputs": [],
   "source": [
    "import pickle\n",
    "with open('data/hist_grad_bc.pkl','wb') as pickle_file:\n",
    "    pickle.dump(hist_model,pickle_file)"
   ]
  }
 ],
 "metadata": {
  "kernelspec": {
   "display_name": "Python 3 (ipykernel)",
   "language": "python",
   "name": "python3"
  },
  "language_info": {
   "codemirror_mode": {
    "name": "ipython",
    "version": 3
   },
   "file_extension": ".py",
   "mimetype": "text/x-python",
   "name": "python",
   "nbconvert_exporter": "python",
   "pygments_lexer": "ipython3",
   "version": "3.11.6"
  }
 },
 "nbformat": 4,
 "nbformat_minor": 5
}
