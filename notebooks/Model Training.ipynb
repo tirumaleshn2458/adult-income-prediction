{
 "cells": [
  {
   "cell_type": "markdown",
   "id": "69e8c736",
   "metadata": {},
   "source": [
    "## Model training"
   ]
  },
  {
   "cell_type": "markdown",
   "id": "af5d1012",
   "metadata": {},
   "source": [
    "Here we are going to train the data with all the columns"
   ]
  },
  {
   "cell_type": "code",
   "execution_count": 1,
   "id": "44c7853e",
   "metadata": {},
   "outputs": [],
   "source": [
    "#import the libraries\n",
    "import pandas as pd\n",
    "import numpy as np\n",
    "from sklearn.linear_model import LogisticRegression\n",
    "from sklearn.model_selection import train_test_split\n",
    "from sklearn.tree import DecisionTreeClassifier\n",
    "from sklearn.ensemble import HistGradientBoostingClassifier\n",
    "from sklearn.metrics import confusion_matrix\n",
    "import seaborn as sns\n",
    "import matplotlib.pyplot as plt\n",
    "import warnings\n",
    "warnings.filterwarnings('ignore')"
   ]
  },
  {
   "cell_type": "code",
   "execution_count": 2,
   "id": "b885fbf7",
   "metadata": {},
   "outputs": [],
   "source": [
    "#reading the data with the columns ready to train the model\n",
    "data_frame=pd.read_csv('final_data_all.csv')"
   ]
  },
  {
   "cell_type": "code",
   "execution_count": 3,
   "id": "4ce36003",
   "metadata": {},
   "outputs": [
    {
     "data": {
      "text/html": [
       "<div>\n",
       "<style scoped>\n",
       "    .dataframe tbody tr th:only-of-type {\n",
       "        vertical-align: middle;\n",
       "    }\n",
       "\n",
       "    .dataframe tbody tr th {\n",
       "        vertical-align: top;\n",
       "    }\n",
       "\n",
       "    .dataframe thead th {\n",
       "        text-align: right;\n",
       "    }\n",
       "</style>\n",
       "<table border=\"1\" class=\"dataframe\">\n",
       "  <thead>\n",
       "    <tr style=\"text-align: right;\">\n",
       "      <th></th>\n",
       "      <th>age</th>\n",
       "      <th>workclass</th>\n",
       "      <th>fnlwgt</th>\n",
       "      <th>education</th>\n",
       "      <th>education-num</th>\n",
       "      <th>marital-status</th>\n",
       "      <th>occupation</th>\n",
       "      <th>relationship</th>\n",
       "      <th>race</th>\n",
       "      <th>sex</th>\n",
       "      <th>capital-gain</th>\n",
       "      <th>capital-loss</th>\n",
       "      <th>hours-per-week</th>\n",
       "      <th>country</th>\n",
       "      <th>salary</th>\n",
       "    </tr>\n",
       "  </thead>\n",
       "  <tbody>\n",
       "    <tr>\n",
       "      <th>0</th>\n",
       "      <td>0.205903</td>\n",
       "      <td>2.150579</td>\n",
       "      <td>-1.173869</td>\n",
       "      <td>-0.335437</td>\n",
       "      <td>-0.658598</td>\n",
       "      <td>0.921634</td>\n",
       "      <td>-1.317809</td>\n",
       "      <td>-0.277805</td>\n",
       "      <td>0.393668</td>\n",
       "      <td>0.703071</td>\n",
       "      <td>0.148453</td>\n",
       "      <td>-0.21666</td>\n",
       "      <td>0.128926</td>\n",
       "      <td>0.291569</td>\n",
       "      <td>&lt;=50K</td>\n",
       "    </tr>\n",
       "    <tr>\n",
       "      <th>1</th>\n",
       "      <td>0.895359</td>\n",
       "      <td>1.463736</td>\n",
       "      <td>-1.088463</td>\n",
       "      <td>-0.335437</td>\n",
       "      <td>-0.658598</td>\n",
       "      <td>-0.406212</td>\n",
       "      <td>-0.608387</td>\n",
       "      <td>-0.900181</td>\n",
       "      <td>0.393668</td>\n",
       "      <td>0.703071</td>\n",
       "      <td>-0.145920</td>\n",
       "      <td>-0.21666</td>\n",
       "      <td>-2.611727</td>\n",
       "      <td>0.291569</td>\n",
       "      <td>&lt;=50K</td>\n",
       "    </tr>\n",
       "    <tr>\n",
       "      <th>2</th>\n",
       "      <td>0.133824</td>\n",
       "      <td>0.090050</td>\n",
       "      <td>0.380227</td>\n",
       "      <td>0.181332</td>\n",
       "      <td>1.215082</td>\n",
       "      <td>-1.734058</td>\n",
       "      <td>-0.135438</td>\n",
       "      <td>-0.277805</td>\n",
       "      <td>0.393668</td>\n",
       "      <td>0.703071</td>\n",
       "      <td>-0.145920</td>\n",
       "      <td>-0.21666</td>\n",
       "      <td>0.128926</td>\n",
       "      <td>0.291569</td>\n",
       "      <td>&lt;=50K</td>\n",
       "    </tr>\n",
       "    <tr>\n",
       "      <th>3</th>\n",
       "      <td>1.057050</td>\n",
       "      <td>0.090050</td>\n",
       "      <td>0.548231</td>\n",
       "      <td>-2.402511</td>\n",
       "      <td>0.874413</td>\n",
       "      <td>-0.406212</td>\n",
       "      <td>-0.135438</td>\n",
       "      <td>-0.900181</td>\n",
       "      <td>-1.962621</td>\n",
       "      <td>0.703071</td>\n",
       "      <td>-0.145920</td>\n",
       "      <td>-0.21666</td>\n",
       "      <td>0.128926</td>\n",
       "      <td>0.291569</td>\n",
       "      <td>&lt;=50K</td>\n",
       "    </tr>\n",
       "    <tr>\n",
       "      <th>4</th>\n",
       "      <td>-0.713580</td>\n",
       "      <td>0.090050</td>\n",
       "      <td>1.360957</td>\n",
       "      <td>-0.335437</td>\n",
       "      <td>-0.658598</td>\n",
       "      <td>-0.406212</td>\n",
       "      <td>0.810458</td>\n",
       "      <td>2.211698</td>\n",
       "      <td>-1.962621</td>\n",
       "      <td>-1.422331</td>\n",
       "      <td>-0.145920</td>\n",
       "      <td>-0.21666</td>\n",
       "      <td>0.128926</td>\n",
       "      <td>-4.054223</td>\n",
       "      <td>&lt;=50K</td>\n",
       "    </tr>\n",
       "  </tbody>\n",
       "</table>\n",
       "</div>"
      ],
      "text/plain": [
       "        age  workclass    fnlwgt  education  education-num  marital-status  \\\n",
       "0  0.205903   2.150579 -1.173869  -0.335437      -0.658598        0.921634   \n",
       "1  0.895359   1.463736 -1.088463  -0.335437      -0.658598       -0.406212   \n",
       "2  0.133824   0.090050  0.380227   0.181332       1.215082       -1.734058   \n",
       "3  1.057050   0.090050  0.548231  -2.402511       0.874413       -0.406212   \n",
       "4 -0.713580   0.090050  1.360957  -0.335437      -0.658598       -0.406212   \n",
       "\n",
       "   occupation  relationship      race       sex  capital-gain  capital-loss  \\\n",
       "0   -1.317809     -0.277805  0.393668  0.703071      0.148453      -0.21666   \n",
       "1   -0.608387     -0.900181  0.393668  0.703071     -0.145920      -0.21666   \n",
       "2   -0.135438     -0.277805  0.393668  0.703071     -0.145920      -0.21666   \n",
       "3   -0.135438     -0.900181 -1.962621  0.703071     -0.145920      -0.21666   \n",
       "4    0.810458      2.211698 -1.962621 -1.422331     -0.145920      -0.21666   \n",
       "\n",
       "   hours-per-week   country  salary  \n",
       "0        0.128926  0.291569   <=50K  \n",
       "1       -2.611727  0.291569   <=50K  \n",
       "2        0.128926  0.291569   <=50K  \n",
       "3        0.128926  0.291569   <=50K  \n",
       "4        0.128926 -4.054223   <=50K  "
      ]
     },
     "execution_count": 3,
     "metadata": {},
     "output_type": "execute_result"
    }
   ],
   "source": [
    "data_frame.head()"
   ]
  },
  {
   "cell_type": "code",
   "execution_count": 4,
   "id": "0544d5a7",
   "metadata": {},
   "outputs": [],
   "source": [
    "#assigning the data as input and output \n",
    "x=data_frame.drop(['salary'],axis=1)\n",
    "y=data_frame[['salary']]"
   ]
  },
  {
   "cell_type": "code",
   "execution_count": 5,
   "id": "b0af80f4",
   "metadata": {},
   "outputs": [],
   "source": [
    "#spliting the data\n",
    "x_train,x_test,y_train,y_test=train_test_split(x,y,test_size=0.3,train_size=0.7,random_state=46)"
   ]
  },
  {
   "cell_type": "code",
   "execution_count": 6,
   "id": "fa85b2bc",
   "metadata": {},
   "outputs": [],
   "source": [
    "#initializing the models"
   ]
  },
  {
   "cell_type": "markdown",
   "id": "2fdc9a66",
   "metadata": {},
   "source": [
    "1. Logistic Regression"
   ]
  },
  {
   "cell_type": "code",
   "execution_count": 7,
   "id": "409dd3ff",
   "metadata": {},
   "outputs": [
    {
     "data": {
      "text/plain": [
       "0.8071450506704883"
      ]
     },
     "execution_count": 7,
     "metadata": {},
     "output_type": "execute_result"
    }
   ],
   "source": [
    "log_model=LogisticRegression()\n",
    "log_model.fit(x_train,y_train)\n",
    "log_model.score(x_test,y_test)"
   ]
  },
  {
   "cell_type": "markdown",
   "id": "5385abdf",
   "metadata": {},
   "source": [
    "2. Decision Tree Classifier"
   ]
  },
  {
   "cell_type": "code",
   "execution_count": 8,
   "id": "ae354352",
   "metadata": {},
   "outputs": [
    {
     "data": {
      "text/plain": [
       "0.8147200327566793"
      ]
     },
     "execution_count": 8,
     "metadata": {},
     "output_type": "execute_result"
    }
   ],
   "source": [
    "tree_model=DecisionTreeClassifier()\n",
    "tree_model.fit(x_train,y_train)\n",
    "tree_model.score(x_test,y_test)"
   ]
  },
  {
   "cell_type": "markdown",
   "id": "f81e2bf8",
   "metadata": {},
   "source": [
    "3. Hist Gradient Boosting Classifier"
   ]
  },
  {
   "cell_type": "code",
   "execution_count": 9,
   "id": "7d5c7cdd",
   "metadata": {},
   "outputs": [
    {
     "data": {
      "text/plain": [
       "0.8732725969904801"
      ]
     },
     "execution_count": 9,
     "metadata": {},
     "output_type": "execute_result"
    }
   ],
   "source": [
    "hist_model=HistGradientBoostingClassifier()\n",
    "hist_model.fit(x_train,y_train)\n",
    "hist_model.score(x_test,y_test)"
   ]
  },
  {
   "cell_type": "code",
   "execution_count": 10,
   "id": "cc5a267e",
   "metadata": {},
   "outputs": [],
   "source": [
    "predicted_values=hist_model.predict(x_test)"
   ]
  },
  {
   "cell_type": "code",
   "execution_count": 11,
   "id": "e57d3dfa",
   "metadata": {},
   "outputs": [
    {
     "data": {
      "text/plain": [
       "array([' <=50K', ' <=50K', ' <=50K', ..., ' <=50K', ' <=50K', ' <=50K'],\n",
       "      dtype=object)"
      ]
     },
     "execution_count": 11,
     "metadata": {},
     "output_type": "execute_result"
    }
   ],
   "source": [
    "predicted_values"
   ]
  },
  {
   "cell_type": "code",
   "execution_count": 12,
   "id": "4a01b39a",
   "metadata": {},
   "outputs": [
    {
     "data": {
      "image/png": "[encoded data removed]",
      "text/plain": [
       "<Figure size 640x480 with 2 Axes>"
      ]
     },
     "metadata": {},
     "output_type": "display_data"
    },
    {
     "data": {
      "text/plain": [
       "array([[6994,  417],\n",
       "       [ 821, 1537]])"
      ]
     },
     "execution_count": 12,
     "metadata": {},
     "output_type": "execute_result"
    }
   ],
   "source": [
    "sns.heatmap(confusion_matrix(y_test,predicted_values))\n",
    "plt.show()\n",
    "confusion_matrix(y_test,predicted_values)"
   ]
  },
  {
   "cell_type": "markdown",
   "id": "5b5dbe9e",
   "metadata": {},
   "source": [
    "- hist gradient boosting classifier works well with 87% of accuracy "
   ]
  },
  {
   "cell_type": "code",
   "execution_count": 13,
   "id": "43e32d42",
   "metadata": {},
   "outputs": [],
   "source": [
    "import pickle\n",
    "with open('hist_grad_bc.pkl','wb') as pickle_file:\n",
    "    pickle.dump(hist_model,pickle_file)"
   ]
  },
  {
   "cell_type": "code",
   "execution_count": null,
   "id": "2eb08469",
   "metadata": {},
   "outputs": [],
   "source": []
  },
  {
   "cell_type": "code",
   "execution_count": 3,
   "id": "f5b80e9d",
   "metadata": {},
   "outputs": [
    {
     "name": "stdout",
     "output_type": "stream",
     "text": [
      "Welcome to Adult Census Income Prediction\n",
      "----------------------------------------------------------\n",
      "Importing Libraries...\n",
      "Loading model...\n",
      "Required files loaded successfully:)\n",
      "All set to work...\n",
      "------------------------------------------------------------------\n",
      "------------------------------------------------------------------\n",
      "Predict the values: [Y/n]?y\n",
      "Please enter the input values in json format to predict the output\n",
      "------------------------\n",
      "------------------------------------\n",
      "Column: (1/14)Enter the input for age(Number) or Press enter to select the random value: \n",
      "Here: \n",
      "------------------------------------\n",
      "87\n",
      "------------------------------------\n",
      "Column: (2/14)Enter the input for workclass(Must be one from the following list of values) or Press enter to select the random value:\n",
      "['?', 'Federal-gov', 'Local-gov', 'Never-worked', 'Private', 'Self-emp-inc', 'Self-emp-not-inc', 'State-gov', 'Without-pay']\n",
      "Here: \n",
      "------------------------------------\n",
      "Without-pay\n",
      "------------------------------------\n",
      "Column: (3/14)Enter the input for fnlwgt(Number) or Press enter to select the random value: \n",
      "Here: \n",
      "------------------------------------\n",
      "1181294\n",
      "------------------------------------\n",
      "Column: (4/14)Enter the input for education(Must be one from the following list of values) or Press enter to select the random value:\n",
      "['10th', '11th', '12th', '1st-4th', '5th-6th', '7th-8th', '9th', 'Assoc-acdm', 'Assoc-voc', 'Bachelors', 'Doctorate', 'HS-grad', 'Masters', 'Preschool', 'Prof-school', 'Some-college']\n",
      "Here: \n",
      "------------------------------------\n",
      "1st-4th\n",
      "------------------------------------\n",
      "Column: (5/14)Enter the input for education-num(Must be one from the following list of values) or Press enter to select the random value:\n",
      "['1', '10', '11', '12', '13', '14', '15', '16', '2', '3', '4', '5', '6', '7', '8', '9']\n",
      "Here: \n",
      "------------------------------------\n",
      "2\n",
      "------------------------------------\n",
      "Column: (6/14)Enter the input for marital-status(Must be one from the following list of values) or Press enter to select the random value:\n",
      "['Divorced', 'Married-AF-spouse', 'Married-civ-spouse', 'Married-spouse-absent', 'Never-married', 'Separated', 'Widowed']\n",
      "Here: \n",
      "------------------------------------\n",
      "Married-AF-spouse\n",
      "------------------------------------\n",
      "Column: (7/14)Enter the input for occupation(Must be one from the following list of values) or Press enter to select the random value:\n",
      "['?', 'Adm-clerical', 'Armed-Forces', 'Craft-repair', 'Exec-managerial', 'Farming-fishing', 'Handlers-cleaners', 'Machine-op-inspct', 'Other-service', 'Priv-house-serv', 'Prof-specialty', 'Protective-serv', 'Sales', 'Tech-support', 'Transport-moving']\n",
      "Here: \n",
      "------------------------------------\n",
      "Farming-fishing\n",
      "------------------------------------\n",
      "Column: (8/14)Enter the input for relationship(Must be one from the following list of values) or Press enter to select the random value:\n",
      "['Husband', 'Not-in-family', 'Other-relative', 'Own-child', 'Unmarried', 'Wife']\n",
      "Here: \n",
      "------------------------------------\n",
      "Husband\n",
      "------------------------------------\n",
      "Column: (9/14)Enter the input for race(Must be one from the following list of values) or Press enter to select the random value:\n",
      "['Amer-Indian-Eskimo', 'Asian-Pac-Islander', 'Black', 'Other', 'White']\n",
      "Here: \n",
      "------------------------------------\n",
      "White\n",
      "------------------------------------\n",
      "Column: (10/14)Enter the input for sex(Must be one from the following list of values) or Press enter to select the random value:\n",
      "['Female', 'Male']\n",
      "Here: \n",
      "------------------------------------\n",
      "Female\n",
      "------------------------------------\n",
      "Column: (11/14)Enter the input for capital-gain(Number) or Press enter to select the random value: \n",
      "Here: \n",
      "------------------------------------\n",
      "28321\n",
      "------------------------------------\n",
      "Column: (12/14)Enter the input for capital-loss(Number) or Press enter to select the random value: \n",
      "Here: \n",
      "------------------------------------\n",
      "4335\n",
      "------------------------------------\n",
      "Column: (13/14)Enter the input for hours-per-week(Number) or Press enter to select the random value: \n",
      "Here: \n",
      "------------------------------------\n",
      "83\n",
      "------------------------------------\n",
      "Column: (14/14)Enter the input for country(Must be one from the following list of values) or Press enter to select the random value:\n",
      "['?', 'Cambodia', 'Canada', 'China', 'Columbia', 'Cuba', 'Dominican-Republic', 'Ecuador', 'El-Salvador', 'England', 'France', 'Germany', 'Greece', 'Guatemala', 'Haiti', 'Holand-Netherlands', 'Honduras', 'Hong', 'Hungary', 'India', 'Iran', 'Ireland', 'Italy', 'Jamaica', 'Japan', 'Laos', 'Mexico', 'Nicaragua', 'Outlying-US(Guam-USVI-etc)', 'Peru', 'Philippines', 'Poland', 'Portugal', 'Puerto-Rico', 'Scotland', 'South', 'Taiwan', 'Thailand', 'Trinadad&Tobago', 'United-States', 'Vietnam', 'Yugoslavia']\n",
      "Here: \n",
      "------------------------------------\n",
      "Peru\n",
      "------------------------------------\n",
      "Predicted value:  <=50K\n",
      "-------------------------------------------------------------------------------------\n",
      "Predict the values: [Y/n]?n\n",
      "Thanks for using...\n"
     ]
    }
   ],
   "source": [
    "print('Welcome to Adult Census Income Prediction')\n",
    "print('----------------------------------------------------------')\n",
    "print('Importing Libraries...')\n",
    "import pickle\n",
    "import pandas as pd\n",
    "import numpy as np\n",
    "import json\n",
    "import random\n",
    "import warnings\n",
    "warnings.filterwarnings('ignore')\n",
    "print('Loading model...')\n",
    "all_set=False\n",
    "columns=[]\n",
    "i_inputs={}\n",
    "final_inputs=[]\n",
    "if 1>0:\n",
    "    #loading the csv files\n",
    "    i_data=pd.read_csv('data/i_data.csv')\n",
    "    i_data['education-num']=i_data['education-num'].astype(str)\n",
    "    final_data=pd.read_csv('data/final_data_all.csv')\n",
    "    with open('data/encoded_values.json','rb') as file:\n",
    "        encoded_values=json.load(file)\n",
    "    columns=list(final_data.columns)\n",
    "    obj_cols=i_data.select_dtypes(include='object').columns\n",
    "    num_cols=i_data.select_dtypes(include='number').columns\n",
    "    with open('data/hist_grad_bc.pkl','rb') as file_name:\n",
    "        model=pickle.load(file_name)\n",
    "    with open('data/ss_scale_values.pkl','rb') as file_name:\n",
    "        ss_scale_model=pickle.load(file_name)\n",
    "    print('Required files loaded successfully:)')\n",
    "    all_set=True\n",
    "else:\n",
    "    print('Model not loaded.')\n",
    "def work():\n",
    "    print('Please enter the input values in json format to predict the output')\n",
    "    print('------------------------')\n",
    "    i=1\n",
    "    for col in columns:\n",
    "        if col=='salary':\n",
    "            continue\n",
    "        if col in obj_cols:\n",
    "            uni_values=list(encoded_values[col].keys())\n",
    "            print('------------------------------------')\n",
    "            while True:\n",
    "                print('Column: ('+str(i)+'/'+str(len(columns)-1)+')'+'Enter the input for '+col+'(Must be one from the following list of values) or Press enter to select the random value:')\n",
    "                print(uni_values)\n",
    "                inp_val=input('Here: ')\n",
    "                print('------------------------------------')\n",
    "                if len(inp_val)==0:\n",
    "                    inp_val=random.choice(uni_values)\n",
    "                    print(inp_val)\n",
    "                if inp_val in uni_values:\n",
    "                    encoded_value=encoded_values[col][inp_val]\n",
    "                    final_inputs.append(encoded_value)\n",
    "                    break\n",
    "                else:\n",
    "                    print(\"Incorrect input\")\n",
    "            i=i+1\n",
    "        if col in num_cols:\n",
    "            print('------------------------------------')\n",
    "            while True:\n",
    "                print('Column: ('+str(i)+'/'+str(len(columns)-1)+')'+'Enter the input for '+col+'(Number) or Press enter to select the random value: ')\n",
    "                inp_val=input('Here: ')\n",
    "                print('------------------------------------')\n",
    "                if len(inp_val)==0:\n",
    "                    inp_val=random.randrange(0,max(i_data[col]))\n",
    "                    print(inp_val)\n",
    "                try:\n",
    "                    inp_val=int(inp_val)\n",
    "                    if col=='fnlwgt':                    \n",
    "                        final_inputs.append(np.sqrt(inp_val))\n",
    "                        break\n",
    "                    else:\n",
    "                        final_inputs.append(np.log(inp_val))\n",
    "                        break\n",
    "                except:\n",
    "                    print('Please enter number, not text character(s)')\n",
    "            i=i+1\n",
    "    output=model.predict(ss_scale_model.transform([final_inputs]))[0].strip()\n",
    "    print('------------------------------------')\n",
    "    \n",
    "    \n",
    "    \n",
    "    \n",
    "    \n",
    "    print('Predicted value: ',output)\n",
    "    print('-------------------------------------------------------------------------------------')\n",
    "if all_set==True:\n",
    "    print('All set to work...')\n",
    "    print('------------------------------------------------------------------')\n",
    "    print('------------------------------------------------------------------')\n",
    "    while True:\n",
    "        p_or_not=input('Predict the values: [Y/n]?')\n",
    "        if p_or_not.lower()=='y':\n",
    "            work()\n",
    "        if p_or_not.lower()=='n':\n",
    "            print('Thanks for using...')\n",
    "            break"
   ]
  }
 ],
 "metadata": {
  "kernelspec": {
   "display_name": "Python 3 (ipykernel)",
   "language": "python",
   "name": "python3"
  },
  "language_info": {
   "codemirror_mode": {
    "name": "ipython",
    "version": 3
   },
   "file_extension": ".py",
   "mimetype": "text/x-python",
   "name": "python",
   "nbconvert_exporter": "python",
   "pygments_lexer": "ipython3",
   "version": "3.11.6"
  }
 },
 "nbformat": 4,
 "nbformat_minor": 5
}
